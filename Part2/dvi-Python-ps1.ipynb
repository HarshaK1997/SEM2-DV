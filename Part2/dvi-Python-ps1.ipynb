{
 "cells": [
  {
   "cell_type": "markdown",
   "metadata": {
    "id": "J0BQyBwNnDRi"
   },
   "source": [
    "<img src = \"https://www.bits-pilani.ac.in/Uploads/Campus/BITS_university_logo.gif\">"
   ]
  },
  {
   "cell_type": "markdown",
   "metadata": {
    "id": "wOCvWHupnDSZ"
   },
   "source": [
    "<h1><center>Work Integrated Learning Programmes Division<br>\n",
    "M.Tech (Data Science and Engineering)<br> Data Visualization And Interpretation<br>\n",
    "</center></h1>\n",
    "\n",
    "<h2><center>Assignment -Python – PS1 [Weightage 13%]</center></h2>"
   ]
  },
  {
   "cell_type": "markdown",
   "metadata": {
    "id": "sp26I5vbnDSm"
   },
   "source": [
    "<ol>\n",
    "  <li>Do not change the name of the data file that is shared with the problem statement.</li>\n",
    "  <li>If intermediate data files are created, retain in the present working directory and attach them during submission.</li>\n",
    "  <li>Retain the data file in the same directory as that of this workbook.</li>\n",
    "  <li>Retain the Visualizations that is produced in the file. Don't clear them away.</li>\n",
    "  <li>Submit only the .IPYNB file. Intermediate files to be attached as mentioned in (2).</li>\n",
    "  <li>All the visuals should adhere to the visualization principles learnt in the Course and must be presentation ready. Most effective visuals would fetch maximum  credits</li>\n",
    "  <li>Submissions done via means other than CANAVAS will strictly be NOT graded.</li>\n",
    "</ol>"
   ]
  },
  {
   "cell_type": "markdown",
   "metadata": {
    "id": "GuvPynfInDS4"
   },
   "source": [
    "<style>\n",
    "table {\n",
    "  font-family: arial, sans-serif;\n",
    "  border-collapse: collapse;\n",
    "  width: 100%;\n",
    "}\n",
    "\n",
    "td, th {\n",
    "  border: 1px solid #dddddd;\n",
    "  text-align: left;\n",
    "  padding: 8px;\n",
    "}\n",
    "\n",
    "tr:nth-child(even) {\n",
    "  background-color: #dddddd;\n",
    "}\n",
    "</style>\n",
    "\n",
    "<h2>Group No: (mention your group number here)</h2>\n",
    "\n",
    "<table>\n",
    "  <tr>\n",
    "    <th>Full Name</th>\n",
    "    <th>BITS ID</th>\n",
    "  </tr>\n",
    "  <tr>\n",
    "    <td>Name 1</td>\n",
    "    <td>BITS ID 1</td>\n",
    "  </tr>\n",
    "  <tr>\n",
    "    <td>Name 2</td>\n",
    "    <td>BITS ID 2</td>\n",
    "  </tr>\n",
    "  <tr>\n",
    "    <td>Name 3</td>\n",
    "    <td>BITS ID 3</td>\n",
    "  </tr>\n",
    "</table>"
   ]
  },
  {
   "cell_type": "markdown",
   "metadata": {
    "id": "lSiG-H2XnDTF"
   },
   "source": [
    "<h3>Objective</h3>\n",
    "<h4>To find best players from each positions with their age, nationality, club based on their Potential Scores</h4>\n",
    "\n",
    "\n"
   ]
  },
  {
   "cell_type": "markdown",
   "metadata": {
    "id": "SpP42_ZgnDTN"
   },
   "source": [
    "##  Download and Prep the Data: 1 Marks"
   ]
  },
  {
   "cell_type": "markdown",
   "metadata": {
    "id": "UVZP7GmMnDTV"
   },
   "source": [
    "<h4>Import the libraries needed</h4>"
   ]
  },
  {
   "cell_type": "code",
   "execution_count": null,
   "metadata": {
    "id": "ru_e-YoynDTc"
   },
   "outputs": [],
   "source": [
    "import pandas as pd"
   ]
  },
  {
   "cell_type": "markdown",
   "metadata": {
    "id": "l9k16HmSnDTj"
   },
   "source": [
    "<h4> Load data and store in dataframe </h4>"
   ]
  },
  {
   "cell_type": "code",
   "execution_count": null,
   "metadata": {
    "id": "9nF2OKprnDTn",
    "scrolled": true
   },
   "outputs": [],
   "source": [
    "# Load the dataframe from a CSV file\n",
    "df = pd.read_csv('../dataSetFull.csv')"
   ]
  },
  {
   "cell_type": "markdown",
   "metadata": {
    "id": "nsdRMXMZnDTq"
   },
   "source": [
    "<h4>Find out  what type of variable you are dealing with. This will help you find the right visualization method for that variable.</p>\n"
   ]
  },
  {
   "cell_type": "code",
   "execution_count": null,
   "metadata": {},
   "outputs": [],
   "source": [
    "display(df)\n",
    "\n",
    "# Categorical Nominal: ['location','city','governorate','state']\n",
    "# Categorical Ordinal:\n",
    "# Quantitative Numeric: ['price_tnd','price_eur','pieces','room','bathroom','age','distance_to_capital', 'garage', 'garden', 'concierge', 'beach_view', 'mountain_view', 'pool', 'elevator', 'furnished', 'equipped_kitchen', 'central_heating', 'air_conditioning']\n",
    "# Quantitative Ratio: ['Area','latt','long']\n"
   ]
  },
  {
   "cell_type": "markdown",
   "metadata": {
    "id": "hlS_gWSWnDTv"
   },
   "source": [
    "# Visualisation Questions - 2 X 5 = 10 Marks"
   ]
  },
  {
   "cell_type": "markdown",
   "metadata": {
    "id": "ratiPWMcnDTx"
   },
   "source": [
    "### Question 1\n",
    "<h4>Fill the missing value for the continous variables with Mean(average) for proper data visualization\n",
    "<br><br>\n",
    "    Preprocess height - convert data in  format xx'xx to xx.xx Remove \"nan\" with Mode and convert the column to numerical\n",
    "<br><br>    \n",
    "    Preprocess weight - convert data in  format xxlbs to xx Remove \"nan\" with Mode and convert the column to numerical\n",
    "<h4>Do Univariate anlaysis for outliers detection for height and weight\n",
    "<br><br>\n",
    "<h4>Write the python code in the below cell to create appropriate visual to perform the above task.\n",
    "<h4> Answer in markdown cells below the visual\n",
    "<br><br>\n",
    "<ol>\n",
    "    <li>Summarise your findings from the visual</li>\n",
    "    <li>The reason for selecting the chart type you did</li>\n",
    "    <li>Mention the pre-attentive attributes used.(atleast 2)</li>\n",
    "    <li>Mention the gestalt principles used.(atleast 2)</li>\n",
    "</ol>"
   ]
  },
  {
   "cell_type": "code",
   "execution_count": null,
   "metadata": {},
   "outputs": [],
   "source": [
    "### Data Preprocessing ###\n",
    "# Strip the leading and trailing whitespaces from the columns\n",
    "df = df.map(lambda x: x.strip() if isinstance(x, str) else x)\n",
    "\n",
    "# Duplicates removal\n",
    "# Delete \"id\" columns as its unique for each row\n",
    "df.drop(columns=['id'], inplace=True)\n",
    "# Drop duplicates\n",
    "df.drop_duplicates(inplace=True)\n",
    "\n",
    "# TBD: Discuss later: \"Since city, governorate and location are related, we can drop latt & long column\"\n",
    "df = df.drop(['latt', 'long'], axis=1)\n",
    "\n",
    "# For age, let us convert ranges to oridinal values. For example, '30-50' will be converted to 5\n",
    "print(\"age:\")\n",
    "unique_values = df['age'].unique()\n",
    "print(\"Before conversion: \", unique_values)\n",
    "df['age'] = df['age'].replace('0', 0)\n",
    "df['age'] = df['age'].replace('1-5', 1)\n",
    "df['age'] = df['age'].replace('5-10', 2)\n",
    "df['age'] = df['age'].replace('10-20', 3)\n",
    "df['age'] = df['age'].replace('10,20', 3)\n",
    "df['age'] = df['age'].replace('20-30', 4)\n",
    "df['age'] = df['age'].replace('30-50', 5)\n",
    "df['age'] = df['age'].replace('50-70', 6)\n",
    "df['age'] = df['age'].replace('70-100', 7)\n",
    "df['age'] = df['age'].replace('Plus de 100', 8)\n",
    "unique_values = df['age'].unique()\n",
    "print(\"After conversion: \", unique_values)\n",
    "\n",
    "# For distance_to_capital, let us convert it to 2 decimal places\n",
    "print(\"distance_to_capital:\")\n",
    "unique_values = df['distance_to_capital'].unique().tolist()\n",
    "print(\"Before conversion: \", unique_values)\n",
    "df['distance_to_capital'] = df['distance_to_capital'].apply(lambda x: round(x, 2))\n",
    "unique_values = df['distance_to_capital'].unique().tolist()\n",
    "print(\"After conversion: \", unique_values)\n",
    "\n",
    "# Check for missing values\n",
    "df.isna().sum()\n",
    "\n",
    "data = df[df['price_eur'].notna()]\n",
    "data.isna().sum()\n",
    "\n",
    "# Fill missing values in 'city' column with the most frequent value\n",
    "data['city'].value_counts(dropna=False).head(20)\n",
    "data['city'] = data['city'].fillna(data['city'].mode()[0])\n",
    "data['city'].value_counts(dropna=False).head()\n",
    "\n",
    "# Fill missing values in 'Area' column with the median value\n",
    "data['Area'].describe()\n",
    "data['Area'] = data['Area'].fillna(data['Area'].median())\n",
    "data['Area'].describe()\n",
    "\n",
    "# Fill missing values in 'pieces' column with the median value\n",
    "data['pieces'].describe()\n",
    "data['pieces'] = data['pieces'].fillna(data['pieces'].median())\n",
    "data['pieces'].describe()\n",
    "\n",
    "# Fill missing values in 'room' column with the median value\n",
    "data['room'].describe()\n",
    "data['room'] = data['room'].fillna(data['room'].median())\n",
    "data['room'].describe()\n",
    "\n",
    "# Fill missing values in 'bathroom' column with the median value\n",
    "data['bathroom'].describe()\n",
    "data['bathroom'] = data['bathroom'].fillna(data['bathroom'].median())\n",
    "data['bathroom'].describe()\n",
    "\n",
    "# Fill missing values in 'age' column with the most frequent value\n",
    "data['age'].value_counts(dropna=False).head(20)\n",
    "data['age'] = data['age'].fillna(data['age'].mode()[0])\n",
    "data['age'].value_counts(dropna=False).head()\n",
    "\n",
    "# Fill missing values in 'state' column with the most frequent value\n",
    "data['state'].value_counts(dropna=False).head(20)\n",
    "data['state'] = data['state'].fillna(data['state'].mode()[0])\n",
    "data['state'].value_counts(dropna=False).head()\n",
    "\n",
    "# Fill missing values in 'distance_to_capital' column with the mean frequent value\n",
    "data['distance_to_capital'].describe()\n",
    "data['distance_to_capital'] = data['distance_to_capital'].fillna(data['distance_to_capital'].mean())\n",
    "data['distance_to_capital'].describe()\n",
    "\n",
    "# Once we fill the missing values in the dataset, we can convert the columns to their appropriate data types.\n",
    "data['pieces'] = data['pieces'].astype(int)\n",
    "data['room'] = data['room'].astype(int)\n",
    "data['bathroom'] = data['bathroom'].astype(int)\n",
    "data['age'] = data['age'].astype(int)\n",
    "data['state'] = data['state'].astype(int)\n",
    "data.info()\n",
    "\n",
    "# Check for missing values after pre-processing\n",
    "data.isna().sum()\n",
    "\n",
    "# Drop duplicates\n",
    "data.drop_duplicates(inplace=True)"
   ]
  },
  {
   "cell_type": "code",
   "execution_count": null,
   "metadata": {},
   "outputs": [],
   "source": [
    "# Store the pre-processed data in a new CSV file\n",
    "data.to_csv('preprocessed_data.csv', index=False)"
   ]
  },
  {
   "cell_type": "markdown",
   "metadata": {
    "id": "diRYcB0ZnDT9"
   },
   "source": [
    "### Question 2\n",
    "<h4>Do Bi-Variate anlaysis for outliers detection for height and weight \n",
    "<br><br>\n",
    "<h4>Write the python code in the below cell to create appropriate visual to perform the above task.\n",
    "<h4> Answer in markdown cells below the visual\n",
    "<br><br>\n",
    "<ol>\n",
    "    <li>Summarise your findings from the visual</li>\n",
    "    <li>The reason for selecting the chart type you did</li>\n",
    "    <li>Mention the pre-attentive attributes used.(atleast 2)</li>\n",
    "    <li>Mention the gestalt principles used.(atleast 2)</li>\n",
    "</ol>"
   ]
  },
  {
   "cell_type": "code",
   "execution_count": null,
   "metadata": {
    "id": "Rs2QzLvdnDT-"
   },
   "outputs": [],
   "source": []
  },
  {
   "cell_type": "markdown",
   "metadata": {
    "id": "qQkg7ciNnDT_"
   },
   "source": [
    "### Question 3\n",
    "<h4>What kind of co-relation exists between Age and Overall\n",
    "<br><br>    \n",
    "Write the python code in the below cell to create appropriate visual to perform the above task.\n",
    "<h4> Answer in markdown cells below the visual\n",
    "<br><br>\n",
    "<ol>\n",
    "    <li>Summarise your findings from the visual</li>\n",
    "    <li>The reason for selecting the chart type you did</li>\n",
    "    <li>Mention the pre-attentive attributes used.(atleast 2)</li>\n",
    "    <li>Mention the gestalt principles used.(atleast 2)</li>\n",
    "</ol>"
   ]
  },
  {
   "cell_type": "code",
   "execution_count": null,
   "metadata": {
    "id": "nExKkhfZnDUB"
   },
   "outputs": [],
   "source": []
  },
  {
   "cell_type": "markdown",
   "metadata": {
    "id": "DeuNFfRpnDUD"
   },
   "source": [
    "  ### Question 4\n",
    "<h4>What kind of relation exists between Age and (potential vs Overall). Create an appropriate visual to compare potential vs Overall with respect to age in one single visual.\n",
    "<br><br>\n",
    "Write the python code in the below cell to create appropriate visual to perform the above task.\n",
    "<h4> Answer in markdown cells below the visual\n",
    "<br><br>\n",
    "<ol>\n",
    "    <li>Summarise your findings from the visual</li>\n",
    "    <li>The reason for selecting the chart type you did</li>\n",
    "    <li>Mention the pre-attentive attributes used.(atleast 2)</li>\n",
    "    <li>Mention the gestalt principles used.(atleast 2)</li>\n",
    "</ol>"
   ]
  },
  {
   "cell_type": "code",
   "execution_count": null,
   "metadata": {
    "id": "U2HspEG6nDUE"
   },
   "outputs": [],
   "source": []
  },
  {
   "cell_type": "markdown",
   "metadata": {
    "id": "lF9Sdb7ynDUG"
   },
   "source": [
    "  ### Question 5\n",
    "<h4>What kind of relation exists between Player Vision and Player Value. Create an appropriate visual to show any kind of relation that exists between Vision and Value of the player in one single visual.\n",
    "<br><br>\n",
    "Write the python code in the below cell to create appropriate visual to perform the above task.\n",
    "<h4> Answer in markdown cells below the visual\n",
    "<br><br>\n",
    "<ol>\n",
    "    <li>Summarise your findings from the visual</li>\n",
    "    <li>The reason for selecting the chart type you did</li>\n",
    "    <li>Mention the pre-attentive attributes used.(atleast 2)</li>\n",
    "    <li>Mention the gestalt principles used.(atleast 2)</li>\n",
    "</ol>"
   ]
  },
  {
   "cell_type": "markdown",
   "metadata": {
    "id": "ciXnXIuGoCKE"
   },
   "source": [
    "# Group's choice-2 Marks\n",
    " \n",
    "#### Frame 1 (more) question which will help in the EDA(Exploratory Data Analysis) of the given data set and answer the same using the best visual.\n",
    " \n",
    " 1. Write the question in a markdown cell\n",
    " 2. Below the question,in a coding cell,write the python code to create the visual to answer the question  \n",
    "\n",
    "<h4> Answer in markdown cells below the visual <br><br>\n",
    "   1.Summarise your findings from the visual.<br>\n",
    "   2.The reason for selecting the chart type you did <br>\n",
    "   3.Mention the pre-attentive attributes used.(atleast 2)<br>\n",
    "   4.Mention the gestalt principles used.(atleast 2)<br>"
   ]
  },
  {
   "cell_type": "code",
   "execution_count": null,
   "metadata": {
    "id": "RhzvYzb0nDUI"
   },
   "outputs": [],
   "source": []
  },
  {
   "cell_type": "markdown",
   "metadata": {
    "id": "Dy22QpOZnDUK"
   },
   "source": [
    "<h1><center> ************ END OF ASSIGNMENT ****************</center></h1>"
   ]
  },
  {
   "cell_type": "code",
   "execution_count": null,
   "metadata": {
    "id": "bzlvXa1dnDUL"
   },
   "outputs": [],
   "source": []
  }
 ],
 "metadata": {
  "anaconda-cloud": {},
  "colab": {
   "collapsed_sections": [],
   "name": "dvi-a2-ps1-wb.ipynb",
   "provenance": []
  },
  "kernelspec": {
   "display_name": "Python 3 (ipykernel)",
   "language": "python",
   "name": "python3"
  },
  "language_info": {
   "codemirror_mode": {
    "name": "ipython",
    "version": 3
   },
   "file_extension": ".py",
   "mimetype": "text/x-python",
   "name": "python",
   "nbconvert_exporter": "python",
   "pygments_lexer": "ipython3",
   "version": "3.12.2"
  }
 },
 "nbformat": 4,
 "nbformat_minor": 1
}
